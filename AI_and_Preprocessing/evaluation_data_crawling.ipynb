{
 "cells": [
  {
   "cell_type": "code",
   "execution_count": 1,
   "id": "e720fcf6",
   "metadata": {},
   "outputs": [
    {
     "name": "stdout",
     "output_type": "stream",
     "text": [
      "Collecting selenium\n",
      "  Downloading selenium-4.16.0-py3-none-any.whl (10.0 MB)\n",
      "                                              0.0/10.0 MB ? eta -:--:--\n",
      "     -                                        0.4/10.0 MB 8.5 MB/s eta 0:00:02\n",
      "     ---                                      0.9/10.0 MB 9.7 MB/s eta 0:00:01\n",
      "     ------                                   1.5/10.0 MB 10.5 MB/s eta 0:00:01\n",
      "     --------                                 2.1/10.0 MB 11.1 MB/s eta 0:00:01\n",
      "     -----------                              2.9/10.0 MB 12.1 MB/s eta 0:00:01\n",
      "     --------------                           3.7/10.0 MB 13.1 MB/s eta 0:00:01\n",
      "     ------------------                       4.7/10.0 MB 14.2 MB/s eta 0:00:01\n",
      "     ----------------------                   5.7/10.0 MB 15.2 MB/s eta 0:00:01\n",
      "     ---------------------------              7.0/10.0 MB 16.5 MB/s eta 0:00:01\n",
      "     ---------------------------------        8.3/10.0 MB 17.6 MB/s eta 0:00:01\n",
      "     ---------------------------------------  9.7/10.0 MB 18.9 MB/s eta 0:00:01\n",
      "     --------------------------------------- 10.0/10.0 MB 18.2 MB/s eta 0:00:00\n",
      "Requirement already satisfied: urllib3[socks]<3,>=1.26 in c:\\users\\user\\anaconda3\\lib\\site-packages (from selenium) (1.26.16)\n",
      "Collecting trio~=0.17 (from selenium)\n",
      "  Downloading trio-0.23.2-py3-none-any.whl (461 kB)\n",
      "                                              0.0/461.6 kB ? eta -:--:--\n",
      "     ------------------------------------- 461.6/461.6 kB 28.2 MB/s eta 0:00:00\n",
      "Collecting trio-websocket~=0.9 (from selenium)\n",
      "  Downloading trio_websocket-0.11.1-py3-none-any.whl (17 kB)\n",
      "Requirement already satisfied: certifi>=2021.10.8 in c:\\users\\user\\anaconda3\\lib\\site-packages (from selenium) (2023.5.7)\n",
      "Requirement already satisfied: attrs>=20.1.0 in c:\\users\\user\\anaconda3\\lib\\site-packages (from trio~=0.17->selenium) (22.1.0)\n",
      "Requirement already satisfied: sortedcontainers in c:\\users\\user\\anaconda3\\lib\\site-packages (from trio~=0.17->selenium) (2.4.0)\n",
      "Requirement already satisfied: idna in c:\\users\\user\\anaconda3\\lib\\site-packages (from trio~=0.17->selenium) (3.4)\n",
      "Collecting outcome (from trio~=0.17->selenium)\n",
      "  Downloading outcome-1.3.0.post0-py2.py3-none-any.whl (10 kB)\n",
      "Collecting sniffio>=1.3.0 (from trio~=0.17->selenium)\n",
      "  Downloading sniffio-1.3.0-py3-none-any.whl (10 kB)\n",
      "Requirement already satisfied: cffi>=1.14 in c:\\users\\user\\anaconda3\\lib\\site-packages (from trio~=0.17->selenium) (1.15.1)\n",
      "Collecting wsproto>=0.14 (from trio-websocket~=0.9->selenium)\n",
      "  Downloading wsproto-1.2.0-py3-none-any.whl (24 kB)\n",
      "Requirement already satisfied: PySocks!=1.5.7,<2.0,>=1.5.6 in c:\\users\\user\\anaconda3\\lib\\site-packages (from urllib3[socks]<3,>=1.26->selenium) (1.7.1)\n",
      "Requirement already satisfied: pycparser in c:\\users\\user\\anaconda3\\lib\\site-packages (from cffi>=1.14->trio~=0.17->selenium) (2.21)\n",
      "Collecting h11<1,>=0.9.0 (from wsproto>=0.14->trio-websocket~=0.9->selenium)\n",
      "  Downloading h11-0.14.0-py3-none-any.whl (58 kB)\n",
      "                                              0.0/58.3 kB ? eta -:--:--\n",
      "     ---------------------------------------- 58.3/58.3 kB ? eta 0:00:00\n",
      "Installing collected packages: sniffio, outcome, h11, wsproto, trio, trio-websocket, selenium\n",
      "  Attempting uninstall: sniffio\n",
      "    Found existing installation: sniffio 1.2.0\n",
      "    Uninstalling sniffio-1.2.0:\n",
      "      Successfully uninstalled sniffio-1.2.0\n",
      "Successfully installed h11-0.14.0 outcome-1.3.0.post0 selenium-4.16.0 sniffio-1.3.0 trio-0.23.2 trio-websocket-0.11.1 wsproto-1.2.0\n"
     ]
    }
   ],
   "source": [
    "!pip install selenium"
   ]
  },
  {
   "cell_type": "code",
   "execution_count": 25,
   "id": "540d0299",
   "metadata": {},
   "outputs": [
    {
     "name": "stdout",
     "output_type": "stream",
     "text": [
      "Collecting html_table_parser\n",
      "  Downloading html_table_parser-0.1.0.tar.gz (3.4 kB)\n",
      "  Preparing metadata (setup.py): started\n",
      "  Preparing metadata (setup.py): finished with status 'done'\n",
      "Collecting beautifulsoup4==4.4.1 (from html_table_parser)\n",
      "  Downloading beautifulsoup4-4.4.1-py3-none-any.whl (81 kB)\n",
      "                                              0.0/81.4 kB ? eta -:--:--\n",
      "     ---------------------------------------- 81.4/81.4 kB 4.4 MB/s eta 0:00:00\n",
      "Building wheels for collected packages: html_table_parser\n",
      "  Building wheel for html_table_parser (setup.py): started\n",
      "  Building wheel for html_table_parser (setup.py): finished with status 'done'\n",
      "  Created wheel for html_table_parser: filename=html_table_parser-0.1.0-py3-none-any.whl size=4638 sha256=e007d72bffc43ed423ab7049919b56fe70e9c6132f9bfac10f42a8cfa5670c36\n",
      "  Stored in directory: c:\\users\\user\\appdata\\local\\pip\\cache\\wheels\\3f\\61\\3e\\205c3503f7c244357c1ba105368ba70095a71a075624689850\n",
      "Successfully built html_table_parser\n",
      "Installing collected packages: beautifulsoup4, html_table_parser\n",
      "  Attempting uninstall: beautifulsoup4\n",
      "    Found existing installation: beautifulsoup4 4.12.2\n",
      "    Uninstalling beautifulsoup4-4.12.2:\n",
      "      Successfully uninstalled beautifulsoup4-4.12.2\n",
      "Successfully installed beautifulsoup4-4.4.1 html_table_parser-0.1.0\n"
     ]
    }
   ],
   "source": [
    "!pip install html_table_parser"
   ]
  },
  {
   "cell_type": "code",
   "execution_count": 13,
   "id": "62644907",
   "metadata": {},
   "outputs": [],
   "source": [
    "from selenium import webdriver\n",
    "from selenium.webdriver.common.by import By"
   ]
  },
  {
   "cell_type": "code",
   "execution_count": 14,
   "id": "3906b55f",
   "metadata": {},
   "outputs": [],
   "source": [
    "from urllib.request import urlopen\n",
    "from bs4 import BeautifulSoup\n",
    "from html_table_parser import parser_functions as parser\n",
    "import pandas as pd\n",
    "import time"
   ]
  },
  {
   "cell_type": "code",
   "execution_count": 15,
   "id": "be8073ef",
   "metadata": {},
   "outputs": [],
   "source": [
    "import collections\n",
    "if not hasattr(collections, 'Callable'):\n",
    "    collections.Callable = collections.abc.Callable\n",
    "pd.set_option('display.max_rows', None)"
   ]
  },
  {
   "cell_type": "code",
   "execution_count": 26,
   "id": "63b5787d",
   "metadata": {},
   "outputs": [
    {
     "name": "stdout",
     "output_type": "stream",
     "text": [
      "(03159) 서울특별시 종로구 종로 33 그랑서울 타워2 (2층)\n",
      "(03175) 서울특별시 종로구 신문로2가 경희궁길 26 썬타워빌딩 1층\n",
      "(03082) 서울특별시 종로구 대학로 65 (연건동)\n",
      "(03184) 서울특별시 종로구 신문로2가 새문안로 58 \n",
      "(03160) 서울특별시 종로구 종로 47 \n",
      "(03128) 서울특별시 종로구 김상옥로 29 2층\n",
      "(03143) 서울특별시 종로구 율곡로2길 19 SK ecoplant 행복날개어린이집\n",
      "(03190) 서울특별시 종로구 청계천로 85 삼일빌딩, 3층\n",
      "(03188) 서울특별시 종로구 종로 26 SK서린동빌딩 2층\n",
      "(03187) 서울특별시 종로구 종로 14 (서린동)\n",
      "종료\n"
     ]
    }
   ],
   "source": [
    "driver = webdriver.Chrome()\n",
    "driver.get('https://info.childcare.go.kr/info/cera/search/findNurseryGrade.jsp#none')\n",
    "time.sleep(2)\n",
    "driver.find_element(By.XPATH, '//*[@id=\"sidoCode\"]/option[2]').click()\n",
    "time.sleep(2)\n",
    "driver.find_element(By.XPATH, '//*[@id=\"sigunguCode\"]/option[2]').click()\n",
    "time.sleep(2)\n",
    "driver.find_element(By.XPATH, '//*[@id=\"listFrm\"]/div/div[2]/div/div[3]/a').click()\n",
    "time.sleep(2)\n",
    "\n",
    "\n",
    "try:\n",
    "    for i in range(1,12):\n",
    "        driver.find_element(By.XPATH, '//*[@id=\"pageLoadResult\"]/div/table/tbody/tr['+str(i)+']/td[3]/a').click()\n",
    "        time.sleep(2)\n",
    "        driver.switch_to.window(driver.window_handles[1])\n",
    "        a = driver.find_element(By.XPATH, '//*[@id=\"popWrap2\"]/div/div/div/table/tbody/tr[10]/td').text\n",
    "        driver.switch_to.window(driver.window_handles[0])\n",
    "\n",
    "except:\n",
    "    print('종료')\n",
    "\n",
    "\n",
    "\n",
    "\n",
    "\n",
    "#driver.back()"
   ]
  },
  {
   "cell_type": "code",
   "execution_count": 39,
   "id": "02c3f19e",
   "metadata": {
    "scrolled": true
   },
   "outputs": [
    {
     "name": "stdout",
     "output_type": "stream",
     "text": [
      "셋팅완료\n",
      "같은 구에서 n번째 종료\n",
      "z는 10입니다\n",
      "셋팅완료\n",
      "같은 구에서 n번째 종료\n",
      "z는 10입니다\n",
      "셋팅완료\n",
      "같은 구에서 n번째 종료\n",
      "z는 13입니다\n",
      "셋팅완료\n",
      "같은 구에서 n번째 종료\n",
      "리셋완료\n",
      "같은 구에서 n번째 종료\n",
      "z는 8입니다\n",
      "셋팅완료\n",
      "리셋완료\n",
      "같은 구에서 n번째 종료\n",
      "z는 7입니다\n",
      "셋팅완료\n",
      "리셋완료\n",
      "z는 10입니다\n",
      "셋팅완료\n",
      "리셋완료\n",
      "같은 구에서 n번째 종료\n",
      "z는 11입니다\n",
      "셋팅완료\n",
      "리셋완료\n",
      "같은 구에서 n번째 종료\n",
      "같은 구에서 n번째 종료\n",
      "z는 12입니다\n",
      "셋팅완료\n",
      "리셋완료\n",
      "같은 구에서 n번째 종료\n",
      "z는 5입니다\n",
      "구 변경하고 처음 종료\n",
      "셋팅완료\n",
      "리셋완료\n",
      "같은 구에서 n번째 종료\n",
      "z는 9입니다\n",
      "셋팅완료\n",
      "리셋완료\n",
      "z는 14입니다\n",
      "셋팅완료\n",
      "리셋완료\n",
      "같은 구에서 n번째 종료\n",
      "z는 12입니다\n",
      "셋팅완료\n",
      "리셋완료\n",
      "같은 구에서 n번째 종료\n",
      "z는 6입니다\n",
      "셋팅완료\n",
      "리셋완료\n",
      "같은 구에서 n번째 종료\n",
      "z는 11입니다\n",
      "셋팅완료\n",
      "리셋완료\n",
      "z는 14입니다\n",
      "셋팅완료\n",
      "리셋완료\n",
      "z는 14입니다\n",
      "셋팅완료\n",
      "같은 구에서 n번째 종료\n",
      "리셋완료\n",
      "z는 14입니다\n",
      "셋팅완료\n",
      "리셋완료\n",
      "같은 구에서 n번째 종료\n",
      "z는 5입니다\n",
      "셋팅완료\n",
      "리셋완료\n",
      "같은 구에서 n번째 종료\n",
      "z는 14입니다\n",
      "셋팅완료\n",
      "리셋완료\n",
      "같은 구에서 n번째 종료\n",
      "z는 9입니다\n",
      "셋팅완료\n",
      "리셋완료\n",
      "같은 구에서 n번째 종료\n",
      "z는 10입니다\n",
      "셋팅완료\n",
      "리셋완료\n",
      "같은 구에서 n번째 종료\n",
      "z는 9입니다\n",
      "셋팅완료\n",
      "리셋완료\n",
      "같은 구에서 n번째 종료\n",
      "z는 10입니다\n",
      "셋팅완료\n",
      "리셋완료\n",
      "같은 구에서 n번째 종료\n",
      "z는 15입니다\n",
      "셋팅완료\n",
      "리셋완료\n",
      "z는 14입니다\n"
     ]
    }
   ],
   "source": [
    "driver = webdriver.Chrome()\n",
    "driver.get('https://info.childcare.go.kr/info/cera/search/findNurseryGrade.jsp#none')\n",
    "time.sleep(1)\n",
    "driver.find_element(By.XPATH, '//*[@id=\"sidoCode\"]/option[2]').click()\n",
    "time.sleep(1)\n",
    "\n",
    "df = pd.DataFrame()\n",
    "\n",
    "for i in range(2,27):\n",
    "    driver.find_element(By.XPATH, '//*[@id=\"sigunguCode\"]/option['+str(i)+']').click()\n",
    "    region = driver.find_element(By.XPATH, '//*[@id=\"sigunguCode\"]/option['+str(i)+']').text\n",
    "    \n",
    "    time.sleep(1)\n",
    "    driver.find_element(By.XPATH, '//*[@id=\"listFrm\"]/div/div[2]/div/div[3]/a').click()\n",
    "    time.sleep(1)\n",
    "\n",
    "    \n",
    "    page = driver.page_source\n",
    "    soup = BeautifulSoup(page,'html.parser')\n",
    "    temp = soup.find_all('table')\n",
    "    p=parser.make2d(temp[0])\n",
    "    data=pd.DataFrame(p[2:],columns=p[0])\n",
    "    data.insert(0,'구', region)\n",
    "    data.insert(1,'주소', 'ㅇㅇ')\n",
    "    \n",
    "    \n",
    "    try:\n",
    "        for p in range(1,11):\n",
    "            driver.find_element(By.XPATH, '//*[@id=\"pageLoadResult\"]/div/table/tbody/tr['+str(p)+']/td[3]/a').click()\n",
    "            time.sleep(1)\n",
    "            driver.switch_to.window(driver.window_handles[1])\n",
    "            address = driver.find_element(By.XPATH, '//*[@id=\"popWrap2\"]/div/div/div/table/tbody/tr[10]/td').text\n",
    "            data.loc[p-1, '주소'] = address\n",
    "            driver.switch_to.window(driver.window_handles[0])\n",
    "    except:\n",
    "        p = 11\n",
    "    \n",
    "    \n",
    "    \n",
    "    df = pd.concat([df,data], ignore_index = True)  \n",
    "            \n",
    "            \n",
    "    driver.find_element(By.XPATH, '//*[@id=\"pageLoadResult\"]/div/div/a[2]').click()\n",
    "    time.sleep(1)\n",
    "\n",
    "\n",
    "    try:\n",
    "        for j in range(5,101):\n",
    "            if j == 5:\n",
    "                z = 5\n",
    "            \n",
    "            if j == 14:\n",
    "                z = 4\n",
    "            \n",
    "            page = driver.page_source\n",
    "            soup = BeautifulSoup(page,'html.parser')\n",
    "            temp = soup.find_all('table')\n",
    "            p=parser.make2d(temp[0])\n",
    "            data=pd.DataFrame(p[2:],columns=p[0])\n",
    "            data.insert(0,'구', region)\n",
    "            data.insert(1,'주소', 'ㅇㅇ')\n",
    "            \n",
    "            try:\n",
    "                for p in range(1,11):\n",
    "                    driver.find_element(By.XPATH, '//*[@id=\"pageLoadResult\"]/div/table/tbody/tr['+str(p)+']/td[3]/a').click()\n",
    "                    time.sleep(1)\n",
    "                    driver.switch_to.window(driver.window_handles[1])\n",
    "                    address = driver.find_element(By.XPATH, '//*[@id=\"popWrap2\"]/div/div/div/table/tbody/tr[10]/td').text\n",
    "                    data.loc[p-1, '주소'] = address\n",
    "                    driver.switch_to.window(driver.window_handles[0])\n",
    "            except:\n",
    "                p = 11\n",
    "                \n",
    "                \n",
    "            \n",
    "            df = pd.concat([df,data], ignore_index = True)\n",
    "                \n",
    "            driver.find_element(By.XPATH, '//*[@id=\"pageLoadResult\"]/div/div/a['+str(z)+']').click()\n",
    "            time.sleep(1)\n",
    "            z+=1\n",
    "    except:\n",
    "        j=101\n",
    "\n",
    "\n",
    "df.drop(['번호','어린이집담기'],axis=1, inplace=True)\n",
    "df.columns = ['구', '주소', '어린이집명', '어린이집등급', '보육과정 및 상호작용','보육환경 및 운영관리','건강 및 안전','교직원','평가 인증 년월']\n",
    "df.to_csv('어린이집평가 데이터.csv', encoding='cp949')"
   ]
  },
  {
   "cell_type": "code",
   "execution_count": 65,
   "id": "c90df75f",
   "metadata": {},
   "outputs": [
    {
     "data": {
      "text/plain": [
       "567"
      ]
     },
     "execution_count": 65,
     "metadata": {},
     "output_type": "execute_result"
    }
   ],
   "source": [
    "import pandas as pd\n",
    "\n",
    "df = pd.read_csv('어린이집평가 데이터_주소포함.csv', encoding='CP949')\n",
    "df[(df['평가 인증 년월'] >= 2021) & (df['평가 인증 년월'] < 2022)]['어린이집명'].count()"
   ]
  },
  {
   "cell_type": "code",
   "execution_count": 64,
   "id": "aaaaaa64",
   "metadata": {},
   "outputs": [
    {
     "data": {
      "text/plain": [
       "4011"
      ]
     },
     "execution_count": 64,
     "metadata": {},
     "output_type": "execute_result"
    }
   ],
   "source": [
    "df['주소'].count()"
   ]
  },
  {
   "cell_type": "code",
   "execution_count": null,
   "id": "90e8a06e",
   "metadata": {},
   "outputs": [],
   "source": []
  }
 ],
 "metadata": {
  "kernelspec": {
   "display_name": "Python 3 (ipykernel)",
   "language": "python",
   "name": "python3"
  },
  "language_info": {
   "codemirror_mode": {
    "name": "ipython",
    "version": 3
   },
   "file_extension": ".py",
   "mimetype": "text/x-python",
   "name": "python",
   "nbconvert_exporter": "python",
   "pygments_lexer": "ipython3",
   "version": "3.11.3"
  }
 },
 "nbformat": 4,
 "nbformat_minor": 5
}
