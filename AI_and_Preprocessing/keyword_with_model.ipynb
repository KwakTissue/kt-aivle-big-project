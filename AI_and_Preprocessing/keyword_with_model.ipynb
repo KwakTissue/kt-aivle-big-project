{
 "cells": [
  {
   "cell_type": "markdown",
   "metadata": {},
   "source": [
    "# 모델을 적용해 서술형 평가의 긍부정 분류후 키워드 추출"
   ]
  },
  {
   "cell_type": "code",
   "execution_count": 207,
   "metadata": {},
   "outputs": [],
   "source": [
    "import pandas as pd\n",
    "\n",
    "# model\n",
    "from modelpkg.emotion import emotion_classification, key_word\n",
    "# data\n",
    "import modelpkg.config as config\n",
    "from modelpkg.data import data_open, data_load\n",
    "import os"
   ]
  },
  {
   "cell_type": "code",
   "execution_count": 208,
   "metadata": {},
   "outputs": [],
   "source": [
    "pd.options.display.float_format = '{:.0f}'.format"
   ]
  },
  {
   "cell_type": "markdown",
   "metadata": {},
   "source": [
    "# 데이터 로드"
   ]
  },
  {
   "cell_type": "code",
   "execution_count": 209,
   "metadata": {},
   "outputs": [],
   "source": [
    "# 이 당시에는 구글 클라우드를 활용하여 진행했지만 현재는 구글 클라우드 크레딧이 없어 파일이 안열립니다.\n",
    "# description, description_ws = data_open(config.childcare, '서술형 SUM')"
   ]
  },
  {
   "cell_type": "code",
   "execution_count": null,
   "metadata": {},
   "outputs": [],
   "source": [
    "# 구글클라우드 대체하여 csv 파일을 이용해서 데이터 로드\n",
    "# 상위 디렉토리의 경로를 만듦\n",
    "parent_directory = os.path.dirname(os.getcwd())\n",
    "\n",
    "# CSV 파일 불러오기\n",
    "description = pd.read_csv(os.path.join(parent_directory, 'data', '어린이집_total - 서술형 SUM.csv'), encoding='cp949')"
   ]
  },
  {
   "cell_type": "markdown",
   "metadata": {},
   "source": [
    "# 서술형평가 긍부정 분류후 키워드 추출 "
   ]
  },
  {
   "cell_type": "code",
   "execution_count": 210,
   "metadata": {},
   "outputs": [],
   "source": [
    "# 서술형 평가데이터를 키워드 추출 하는 함수\n",
    "\n",
    "# 긍정 키워드\n",
    "def positive_emotion_keyword(x):\n",
    "\n",
    "    # 긍부정 분류\n",
    "    positive_text, negative_text = emotion_classification(x)\n",
    "        \n",
    "    # 긍정 키워드 추출후 입력\n",
    "    p_word = ' '.join(key_word(positive_text)).replace('\\r', ' ')\n",
    "    \n",
    "    return p_word\n",
    "\n",
    "# 부정 키워드\n",
    "def negative_emotion_keyword(x):\n",
    "\n",
    "    # 긍부정 분류\n",
    "    positive_text, negative_text = emotion_classification(x)\n",
    "        \n",
    "    # 부정 키워드 추출후 입력\n",
    "    n_word = ' '.join(key_word(negative_text)).replace('\\r', ' ')\n",
    "    \n",
    "    return n_word\n"
   ]
  },
  {
   "cell_type": "markdown",
   "metadata": {},
   "source": [
    "### 어린이집코드 평가자 입력후 키워드 저장"
   ]
  },
  {
   "cell_type": "code",
   "execution_count": 211,
   "metadata": {},
   "outputs": [],
   "source": [
    "evaluation = ['보육 과정 및 상호작용', '보육환경 및 운영관리', '건강 ･안전', '교직원']\n",
    "for element in evaluation:\n",
    "    description[f'{element} 긍정키워드'] = description[element].apply(positive_emotion_keyword)\n",
    "    description[f'{element} 부정키워드'] = description[element].apply(negative_emotion_keyword)"
   ]
  },
  {
   "cell_type": "markdown",
   "metadata": {},
   "source": [
    "## 결과 확인"
   ]
  },
  {
   "cell_type": "code",
   "execution_count": 212,
   "metadata": {},
   "outputs": [
    {
     "data": {
      "text/html": [
       "<div>\n",
       "<style scoped>\n",
       "    .dataframe tbody tr th:only-of-type {\n",
       "        vertical-align: middle;\n",
       "    }\n",
       "\n",
       "    .dataframe tbody tr th {\n",
       "        vertical-align: top;\n",
       "    }\n",
       "\n",
       "    .dataframe thead th {\n",
       "        text-align: right;\n",
       "    }\n",
       "</style>\n",
       "<table border=\"1\" class=\"dataframe\">\n",
       "  <thead>\n",
       "    <tr style=\"text-align: right;\">\n",
       "      <th></th>\n",
       "      <th>현장평가자 이름</th>\n",
       "      <th>어린이집</th>\n",
       "      <th>어린이집 코드</th>\n",
       "      <th>보육 과정 및 상호작용 긍정키워드</th>\n",
       "      <th>보육 과정 및 상호작용 부정키워드</th>\n",
       "      <th>보육환경 및 운영관리 긍정키워드</th>\n",
       "      <th>보육환경 및 운영관리 부정키워드</th>\n",
       "      <th>건강 ･안전 긍정키워드</th>\n",
       "      <th>건강 ･안전 부정키워드</th>\n",
       "      <th>교직원 긍정키워드</th>\n",
       "      <th>교직원 부정키워드</th>\n",
       "    </tr>\n",
       "  </thead>\n",
       "  <tbody>\n",
       "    <tr>\n",
       "      <th>0</th>\n",
       "      <td>이정담</td>\n",
       "      <td>봄햇살어린이집</td>\n",
       "      <td>11740000151</td>\n",
       "      <td></td>\n",
       "      <td></td>\n",
       "      <td></td>\n",
       "      <td></td>\n",
       "      <td></td>\n",
       "      <td></td>\n",
       "      <td></td>\n",
       "      <td></td>\n",
       "    </tr>\n",
       "    <tr>\n",
       "      <th>1</th>\n",
       "      <td>이준석</td>\n",
       "      <td>꼬마사랑어린이집</td>\n",
       "      <td>11260000467</td>\n",
       "      <td>원래 대답 궁금증 관심 친절 존중 무시 노력 맞장구 신경 애착 베개 노력 부분 교사...</td>\n",
       "      <td>관리 등원 하원 인원 신경 점검 체크 리스트 경험 개별 격려 의견 자신 또래 지목 ...</td>\n",
       "      <td>관리 구비 시설 조합 놀이</td>\n",
       "      <td>교사 가족 가정 구성원 숙지</td>\n",
       "      <td>청소 체크 자체 이행 리스트</td>\n",
       "      <td>신경 노력</td>\n",
       "      <td></td>\n",
       "      <td>직원 원장 회의 논의 관련</td>\n",
       "    </tr>\n",
       "    <tr>\n",
       "      <th>2</th>\n",
       "      <td>유영웅</td>\n",
       "      <td>리센츠어린이집</td>\n",
       "      <td>11710000729</td>\n",
       "      <td>존중 요구 개별 대처 격려 신경 지도 맞춤 개인 실시 낮잠 구비 시간 일정 물품 자...</td>\n",
       "      <td>미소 배웅 하원 교사 놀이 개인 교사 놀이 상황 발생 능력 언어 반응 인지 수용 표...</td>\n",
       "      <td></td>\n",
       "      <td>연령 놀이기구 놀이 다양 차이 가족 이해 문제</td>\n",
       "      <td></td>\n",
       "      <td>거미줄 공간 발견 다수 청결 탑승 관리 차량 하원 이후</td>\n",
       "      <td>원장 다양 운영 측면 노력</td>\n",
       "      <td></td>\n",
       "    </tr>\n",
       "    <tr>\n",
       "      <th>3</th>\n",
       "      <td>곽동우</td>\n",
       "      <td>구립초록나라어린이집</td>\n",
       "      <td>11305000170</td>\n",
       "      <td>교사 행동 집중 노력 실천 버스 통학 배려 운행 분위기 클래식 조명 공간 분위기 마...</td>\n",
       "      <td>칭찬 교사 배려 생각 지지 교사 메모 활동 개인 공간 주도 창의 진행 마련 놀이 교...</td>\n",
       "      <td></td>\n",
       "      <td>놀이 기능 기구 활동 발달 학부모 교사 가족 상담 이해</td>\n",
       "      <td></td>\n",
       "      <td>업체 진행 방역 청소 cctv 모니터링 교사 안전 배치</td>\n",
       "      <td></td>\n",
       "      <td>원장 특강 운영 논문 보육</td>\n",
       "    </tr>\n",
       "    <tr>\n",
       "      <th>4</th>\n",
       "      <td>남학준</td>\n",
       "      <td>가로수 어린이집</td>\n",
       "      <td>11680000427</td>\n",
       "      <td>응답 대답 냉정 표정</td>\n",
       "      <td>대답 말대꾸 질문 하원 분위기 귀가 관심 태도 일관 정도 훈련 개인 준비 환경 편의...</td>\n",
       "      <td></td>\n",
       "      <td>장난감 준비 무리 사용 관심 개개인 부족</td>\n",
       "      <td></td>\n",
       "      <td>실내 물건 먼지 실외 음식물 발견</td>\n",
       "      <td></td>\n",
       "      <td>교직원 철학 원장 조성 부담감</td>\n",
       "    </tr>\n",
       "    <tr>\n",
       "      <th>5</th>\n",
       "      <td>박두규</td>\n",
       "      <td>노원연두어린이집</td>\n",
       "      <td>11350001006</td>\n",
       "      <td>교사 태도 소통 존중 의견 교사 활동 격려 어려움 포기 학부모 부모 교사 안전 통제...</td>\n",
       "      <td>낮잠 상황 취침 구성 공간 교사 연령대 활동 프로그램 놀이 실시 원장 다양 파악 평가</td>\n",
       "      <td>놀이기구 설계 크기 성장 놀이 학부모 가족 소통 이해 지속</td>\n",
       "      <td></td>\n",
       "      <td>실내 마당 아침 진행 청결</td>\n",
       "      <td>주시 상황 인계 전체 부족</td>\n",
       "      <td>원장 철학 공부 소신 다양</td>\n",
       "      <td></td>\n",
       "    </tr>\n",
       "    <tr>\n",
       "      <th>6</th>\n",
       "      <td>성건호</td>\n",
       "      <td>구립참사랑어린이집</td>\n",
       "      <td>11590000022</td>\n",
       "      <td>감정 생각 행동 놀이 활동 격려 진행 주도 안정 격려 표정 진행 억양 감성 생각 표...</td>\n",
       "      <td>요구 질문 반응 개별 하원 교직원 인사 귀가 훈련 배변 진행 특성 관여 직접 담당 ...</td>\n",
       "      <td>크기 발달 기능 적합</td>\n",
       "      <td>가족 기록 참고 지도 사항</td>\n",
       "      <td>환기 청결 청소</td>\n",
       "      <td>cctv 교사 안전 상황 주시</td>\n",
       "      <td></td>\n",
       "      <td>교육 참여 전문 평가 향상</td>\n",
       "    </tr>\n",
       "    <tr>\n",
       "      <th>7</th>\n",
       "      <td>변희수</td>\n",
       "      <td>구립토마토어린이집</td>\n",
       "      <td>11620000538</td>\n",
       "      <td>상황 감정 이해 지지 반응 진행 하원 배분 분위기 시간 일관 마련 노트 개별 과정 ...</td>\n",
       "      <td>반응 상황 질문 대면 수용 교사 교육 케어 태도 치료 평가 원장 보육 현황 파악</td>\n",
       "      <td></td>\n",
       "      <td>발달 공급 기구 과정 수량 케어 학습 관찰 활동 관리</td>\n",
       "      <td>주기 유지 청결 공간 관리</td>\n",
       "      <td>안전 동영상 cctv 안전띠 보호</td>\n",
       "      <td>원장 최근 현장 철학 공부</td>\n",
       "      <td></td>\n",
       "    </tr>\n",
       "  </tbody>\n",
       "</table>\n",
       "</div>"
      ],
      "text/plain": [
       "  현장평가자 이름        어린이집     어린이집 코드  \\\n",
       "0      이정담     봄햇살어린이집 11740000151   \n",
       "1      이준석    꼬마사랑어린이집 11260000467   \n",
       "2      유영웅     리센츠어린이집 11710000729   \n",
       "3      곽동우  구립초록나라어린이집 11305000170   \n",
       "4      남학준    가로수 어린이집 11680000427   \n",
       "5      박두규    노원연두어린이집 11350001006   \n",
       "6      성건호   구립참사랑어린이집 11590000022   \n",
       "7      변희수   구립토마토어린이집 11620000538   \n",
       "\n",
       "                                  보육 과정 및 상호작용 긍정키워드  \\\n",
       "0                                                      \n",
       "1  원래 대답 궁금증 관심 친절 존중 무시 노력 맞장구 신경 애착 베개 노력 부분 교사...   \n",
       "2  존중 요구 개별 대처 격려 신경 지도 맞춤 개인 실시 낮잠 구비 시간 일정 물품 자...   \n",
       "3  교사 행동 집중 노력 실천 버스 통학 배려 운행 분위기 클래식 조명 공간 분위기 마...   \n",
       "4                                        응답 대답 냉정 표정   \n",
       "5  교사 태도 소통 존중 의견 교사 활동 격려 어려움 포기 학부모 부모 교사 안전 통제...   \n",
       "6  감정 생각 행동 놀이 활동 격려 진행 주도 안정 격려 표정 진행 억양 감성 생각 표...   \n",
       "7  상황 감정 이해 지지 반응 진행 하원 배분 분위기 시간 일관 마련 노트 개별 과정 ...   \n",
       "\n",
       "                                  보육 과정 및 상호작용 부정키워드  \\\n",
       "0                                                      \n",
       "1  관리 등원 하원 인원 신경 점검 체크 리스트 경험 개별 격려 의견 자신 또래 지목 ...   \n",
       "2  미소 배웅 하원 교사 놀이 개인 교사 놀이 상황 발생 능력 언어 반응 인지 수용 표...   \n",
       "3  칭찬 교사 배려 생각 지지 교사 메모 활동 개인 공간 주도 창의 진행 마련 놀이 교...   \n",
       "4  대답 말대꾸 질문 하원 분위기 귀가 관심 태도 일관 정도 훈련 개인 준비 환경 편의...   \n",
       "5    낮잠 상황 취침 구성 공간 교사 연령대 활동 프로그램 놀이 실시 원장 다양 파악 평가   \n",
       "6  요구 질문 반응 개별 하원 교직원 인사 귀가 훈련 배변 진행 특성 관여 직접 담당 ...   \n",
       "7       반응 상황 질문 대면 수용 교사 교육 케어 태도 치료 평가 원장 보육 현황 파악   \n",
       "\n",
       "                  보육환경 및 운영관리 긍정키워드               보육환경 및 운영관리 부정키워드  \\\n",
       "0                                                                     \n",
       "1                    관리 구비 시설 조합 놀이                 교사 가족 가정 구성원 숙지   \n",
       "2                                         연령 놀이기구 놀이 다양 차이 가족 이해 문제   \n",
       "3                                    놀이 기능 기구 활동 발달 학부모 교사 가족 상담 이해   \n",
       "4                                            장난감 준비 무리 사용 관심 개개인 부족   \n",
       "5  놀이기구 설계 크기 성장 놀이 학부모 가족 소통 이해 지속                                   \n",
       "6                       크기 발달 기능 적합                  가족 기록 참고 지도 사항   \n",
       "7                                     발달 공급 기구 과정 수량 케어 학습 관찰 활동 관리   \n",
       "\n",
       "      건강 ･안전 긍정키워드                    건강 ･안전 부정키워드       교직원 긍정키워드  \\\n",
       "0                                                                    \n",
       "1  청소 체크 자체 이행 리스트                           신경 노력                   \n",
       "2                   거미줄 공간 발견 다수 청결 탑승 관리 차량 하원 이후  원장 다양 운영 측면 노력   \n",
       "3                   업체 진행 방역 청소 cctv 모니터링 교사 안전 배치                   \n",
       "4                               실내 물건 먼지 실외 음식물 발견                   \n",
       "5   실내 마당 아침 진행 청결                  주시 상황 인계 전체 부족  원장 철학 공부 소신 다양   \n",
       "6         환기 청결 청소                cctv 교사 안전 상황 주시                   \n",
       "7   주기 유지 청결 공간 관리              안전 동영상 cctv 안전띠 보호  원장 최근 현장 철학 공부   \n",
       "\n",
       "          교직원 부정키워드  \n",
       "0                    \n",
       "1    직원 원장 회의 논의 관련  \n",
       "2                    \n",
       "3    원장 특강 운영 논문 보육  \n",
       "4  교직원 철학 원장 조성 부담감  \n",
       "5                    \n",
       "6    교육 참여 전문 평가 향상  \n",
       "7                    "
      ]
     },
     "execution_count": 212,
     "metadata": {},
     "output_type": "execute_result"
    }
   ],
   "source": [
    "description[['현장평가자 이름', '어린이집', '어린이집 코드', '보육 과정 및 상호작용 긍정키워드', '보육 과정 및 상호작용 부정키워드', '보육환경 및 운영관리 긍정키워드', '보육환경 및 운영관리 부정키워드', '건강 ･안전 긍정키워드', '건강 ･안전 부정키워드', '교직원 긍정키워드', '교직원 부정키워드']]"
   ]
  },
  {
   "cell_type": "markdown",
   "metadata": {},
   "source": [
    "# 데이터 저장"
   ]
  },
  {
   "cell_type": "code",
   "execution_count": 213,
   "metadata": {},
   "outputs": [],
   "source": [
    "data_load(description, description_ws)"
   ]
  },
  {
   "cell_type": "code",
   "execution_count": null,
   "metadata": {},
   "outputs": [],
   "source": []
  }
 ],
 "metadata": {
  "kernelspec": {
   "display_name": "base",
   "language": "python",
   "name": "python3"
  },
  "language_info": {
   "codemirror_mode": {
    "name": "ipython",
    "version": 3
   },
   "file_extension": ".py",
   "mimetype": "text/x-python",
   "name": "python",
   "nbconvert_exporter": "python",
   "pygments_lexer": "ipython3",
   "version": "3.11.3"
  }
 },
 "nbformat": 4,
 "nbformat_minor": 2
}
